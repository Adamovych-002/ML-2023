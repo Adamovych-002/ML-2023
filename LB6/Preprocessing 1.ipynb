{
 "cells": [
  {
   "cell_type": "markdown",
   "id": "400680a4",
   "metadata": {},
   "source": [
    "# ЛАБОРАТОРНА РОБОТА  \n",
    "\n",
    "## \"Алгоритми та моделі перетворення даних\"\n",
    "\n",
    "__Метою__ лабораторної роботи є набуття практичних навичок використання модулів бібліотеки `Scikit-learn` для вирішення наступних задач:\n",
    "\n",
    "- визначення та розподілення данних по їх типам\n",
    "- вибір та застосування алгоритмів перетворення різноманітних типів даних\n",
    "- настроювання параметрів та застосування трансформерів\n",
    "- побудова конвеєра для автоматизації процесів трансформації даних\n",
    "\n",
    "__Результатом__ виконання лабораторної роботи повинен стати датасет, в якому колонки з покажчиком перетворені під для навчання моделей"
   ]
  },
  {
   "cell_type": "code",
   "execution_count": 1,
   "id": "50098a89",
   "metadata": {},
   "outputs": [],
   "source": [
    "# імпортувати бібліотеки pandas та numpy\n",
    "import pandas as pd\n",
    "import numpy as np"
   ]
  },
  {
   "cell_type": "markdown",
   "id": "306ace06",
   "metadata": {},
   "source": [
    "## Завдання\n",
    "\n",
    "Вхідним датасетом є csv-файл, отриманий в результаті виконання лабораторної роботи по конструюванню та очищеню покажчиків даних про продажі квартир рієлторської компанії.\n",
    "\n",
    "<h4 style='background-color:cyan; color:red; padding:15px'><ul>\n",
    "    <li>замість `...` вписуйте Ваш програмний код\n",
    "    <li>не змінюйте імена запропонованих зміних\n",
    "    </ul>\n",
    "</h4>"
   ]
  },
  {
   "cell_type": "code",
   "execution_count": null,
   "id": "4428c2d4",
   "metadata": {},
   "outputs": [],
   "source": []
  },
  {
   "cell_type": "markdown",
   "id": "9657db97",
   "metadata": {
    "heading_collapsed": true
   },
   "source": [
    "## 1. Визначення типів покажчиків вхідного датасету"
   ]
  },
  {
   "cell_type": "code",
   "execution_count": 4,
   "id": "fb9d7753",
   "metadata": {
    "hidden": true
   },
   "outputs": [
    {
     "ename": "NameError",
     "evalue": "name 'data' is not defined",
     "output_type": "error",
     "traceback": [
      "\u001b[1;31m---------------------------------------------------------------------------\u001b[0m",
      "\u001b[1;31mNameError\u001b[0m                                 Traceback (most recent call last)",
      "Input \u001b[1;32mIn [4]\u001b[0m, in \u001b[0;36m<cell line: 3>\u001b[1;34m()\u001b[0m\n\u001b[0;32m      1\u001b[0m \u001b[38;5;66;03m# відокремити від робочого датасету колонку з цільовим показчиком (`Price`) \u001b[39;00m\n\u001b[0;32m      2\u001b[0m \u001b[38;5;66;03m# та вилучити її з обробки\u001b[39;00m\n\u001b[1;32m----> 3\u001b[0m target \u001b[38;5;241m=\u001b[39m \u001b[43mdata\u001b[49m[\u001b[38;5;124m'\u001b[39m\u001b[38;5;124mPrice\u001b[39m\u001b[38;5;124m'\u001b[39m]\n\u001b[0;32m      4\u001b[0m data\u001b[38;5;241m.\u001b[39mdrop(columns\u001b[38;5;241m=\u001b[39m\u001b[38;5;124m'\u001b[39m\u001b[38;5;124mPrice\u001b[39m\u001b[38;5;124m'\u001b[39m, inplace\u001b[38;5;241m=\u001b[39m\u001b[38;5;28;01mTrue\u001b[39;00m)\n\u001b[0;32m      5\u001b[0m data\n",
      "\u001b[1;31mNameError\u001b[0m: name 'data' is not defined"
     ]
    }
   ],
   "source": [
    "# відокремити від робочого датасету колонку з цільовим показчиком (`Price`) \n",
    "# та вилучити її з обробки\n",
    "target = data['Price']\n",
    "data.drop(columns='Price', inplace=True)\n",
    "data"
   ]
  },
  {
   "cell_type": "code",
   "execution_count": null,
   "id": "dbb005f1",
   "metadata": {
    "hidden": true
   },
   "outputs": [],
   "source": [
    "# для самоперевірки: кількисть рядків в датасетах повинна співпадати!\n",
    "target.shape, data.shape"
   ]
  },
  {
   "cell_type": "code",
   "execution_count": null,
   "id": "ae23f321",
   "metadata": {
    "hidden": true
   },
   "outputs": [],
   "source": [
    "# імпортувати з sklearn модуль, що відповідає за селективний відбір покажчиків\n",
    "from sklearn.compose import ..."
   ]
  },
  {
   "cell_type": "code",
   "execution_count": null,
   "id": "652f0ba2",
   "metadata": {
    "hidden": true
   },
   "outputs": [],
   "source": [
    "# побудувати  селектори для вібіру числових та категоріальних колонок\n",
    "numeric_selector = ...\n",
    "category_selector = ..."
   ]
  },
  {
   "cell_type": "code",
   "execution_count": null,
   "id": "a673dde6",
   "metadata": {
    "hidden": true
   },
   "outputs": [],
   "source": [
    "# застосувати побудовані селектори для створення списків числових та категоріальних показчиків\n",
    "numeric_data_columns = ...\n",
    "category_data_columns = ...\n",
    "\n",
    "print(f'список числових покажчиків = {numeric_data_columns}')\n",
    "print(f'список категоріальних покажчиків = {category_data_columns}')"
   ]
  },
  {
   "cell_type": "code",
   "execution_count": null,
   "id": "6ecaeec9",
   "metadata": {
    "hidden": true
   },
   "outputs": [],
   "source": [
    "# створити 2 окремі датасети: числовий та категоріальний та вивести їх основні властивості\n",
    "data_numeric = ...\n",
    "data_category = ...\n",
    "\n",
    "data_numeric.shape, data_category.shape"
   ]
  },
  {
   "cell_type": "markdown",
   "id": "6702f1f4",
   "metadata": {},
   "source": [
    "## 2. Маштабування числових та категоріальних колонок"
   ]
  },
  {
   "cell_type": "markdown",
   "id": "73613dc5",
   "metadata": {
    "heading_collapsed": true
   },
   "source": [
    "### 2.1. Маштабування числових показчиків"
   ]
  },
  {
   "cell_type": "code",
   "execution_count": null,
   "id": "17349145",
   "metadata": {
    "hidden": true
   },
   "outputs": [],
   "source": [
    "# з модуля `preprocessing` імпортувати нормалізатор 'MinMaxScaler' та стандартизатор 'StandardScaler'\n",
    "..."
   ]
  },
  {
   "cell_type": "code",
   "execution_count": null,
   "id": "6fc56713",
   "metadata": {
    "hidden": true
   },
   "outputs": [],
   "source": [
    "# створити відповідні маштабувачі\n",
    "standart_scaler = ...\n",
    "min_max_scaler = ..."
   ]
  },
  {
   "cell_type": "code",
   "execution_count": null,
   "id": "0f4a23e6",
   "metadata": {
    "hidden": true
   },
   "outputs": [],
   "source": [
    "# побудувати змаштабовані датасети за двома стратегіями: стандартизація та нормалізація\n",
    "data_numeric_std = ...\n",
    "data_numeric_min_max= ..."
   ]
  },
  {
   "cell_type": "code",
   "execution_count": 2,
   "id": "343c666c",
   "metadata": {
    "hidden": true
   },
   "outputs": [],
   "source": [
    "# побудувати графіки розподілення значень показчиків при\n",
    "# стандартном та нормалізованом маштабуванні\n",
    "..."
   ]
  },
  {
   "cell_type": "markdown",
   "id": "3813999f",
   "metadata": {
    "hidden": true
   },
   "source": [
    "#####  __проаналізувати графіки та визначись який маштабувач краще підходить до числовї підмножини робочого датасету__"
   ]
  },
  {
   "cell_type": "markdown",
   "id": "b76b10d8",
   "metadata": {
    "heading_collapsed": true
   },
   "source": [
    "### 2.1. Маштабування категоріальних показчиків"
   ]
  },
  {
   "cell_type": "code",
   "execution_count": null,
   "id": "8f404fef",
   "metadata": {
    "hidden": true
   },
   "outputs": [],
   "source": [
    "# з модуля `preporcessing` імпортувати кодувальники 'OrdinalEncoder' та 'OneHotEncoder'\n",
    "..."
   ]
  },
  {
   "cell_type": "code",
   "execution_count": null,
   "id": "9118d4ce",
   "metadata": {
    "hidden": true
   },
   "outputs": [],
   "source": [
    "# проаналізувати категоріальні показчики та визначитись до якого показчика\n",
    "# який енкодер доцільно застосовувати\n",
    "..."
   ]
  },
  {
   "cell_type": "code",
   "execution_count": null,
   "id": "b70c4794",
   "metadata": {
    "hidden": true
   },
   "outputs": [],
   "source": [
    "# створити енкодери та закодувати ними відповідні категоріальні колонки\n",
    "ordinal_encoder = ...\n",
    "one_hot_encoder = ..."
   ]
  },
  {
   "cell_type": "markdown",
   "id": "bb506c75",
   "metadata": {
    "heading_collapsed": true
   },
   "source": [
    "## 3. Побудова трансформера для підготовки даних"
   ]
  },
  {
   "cell_type": "code",
   "execution_count": null,
   "id": "7c6c1930",
   "metadata": {
    "hidden": true
   },
   "outputs": [],
   "source": [
    "# з модуля `compose` імпортувати трансформер колонок `ColumnTransformer`\n",
    "..."
   ]
  },
  {
   "cell_type": "code",
   "execution_count": null,
   "id": "2605b0c2",
   "metadata": {
    "hidden": true
   },
   "outputs": [],
   "source": [
    "# побудувати трансформер для предобробки числових та категоріальних показчиків\n",
    "# робочого датасету\n",
    "transformer = ...\n",
    "print(transformer)"
   ]
  },
  {
   "cell_type": "code",
   "execution_count": null,
   "id": "2375ade7",
   "metadata": {
    "code_folding": [],
    "hidden": true
   },
   "outputs": [],
   "source": [
    "# отримати вихідний масив застосував трансфомер до вхідного датасуту\n",
    "data_transformed = ...\n",
    "data_transformed.shape"
   ]
  },
  {
   "cell_type": "code",
   "execution_count": null,
   "id": "4ea575ba",
   "metadata": {
    "hidden": true
   },
   "outputs": [],
   "source": [
    "# побудувати вихідний датафрейм з вихідного масиву додавши в першу колонку\n",
    "# ціловий показчик `target`\n",
    "apartment_transformed = ..."
   ]
  },
  {
   "cell_type": "code",
   "execution_count": null,
   "id": "392d36bf",
   "metadata": {
    "hidden": true
   },
   "outputs": [],
   "source": [
    "# Проінспектувати вихідний датасет `apartment_transformed`\n",
    "..."
   ]
  },
  {
   "cell_type": "code",
   "execution_count": null,
   "id": "3fca0d30",
   "metadata": {
    "hidden": true
   },
   "outputs": [],
   "source": [
    "# зберегти підготовлений датасет в csv-файлі `apartment_transformed.csv`\n",
    "..."
   ]
  }
 ],
 "metadata": {
  "kernelspec": {
   "display_name": "Python 3 (ipykernel)",
   "language": "python",
   "name": "python3"
  },
  "language_info": {
   "codemirror_mode": {
    "name": "ipython",
    "version": 3
   },
   "file_extension": ".py",
   "mimetype": "text/x-python",
   "name": "python",
   "nbconvert_exporter": "python",
   "pygments_lexer": "ipython3",
   "version": "3.9.12"
  },
  "varInspector": {
   "cols": {
    "lenName": 16,
    "lenType": 16,
    "lenVar": 40
   },
   "kernels_config": {
    "python": {
     "delete_cmd_postfix": "",
     "delete_cmd_prefix": "del ",
     "library": "var_list.py",
     "varRefreshCmd": "print(var_dic_list())"
    },
    "r": {
     "delete_cmd_postfix": ") ",
     "delete_cmd_prefix": "rm(",
     "library": "var_list.r",
     "varRefreshCmd": "cat(var_dic_list()) "
    }
   },
   "types_to_exclude": [
    "module",
    "function",
    "builtin_function_or_method",
    "instance",
    "_Feature"
   ],
   "window_display": false
  }
 },
 "nbformat": 4,
 "nbformat_minor": 5
}
